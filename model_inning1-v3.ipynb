{
 "cells": [
  {
   "cell_type": "code",
   "execution_count": 2,
   "metadata": {},
   "outputs": [],
   "source": [
    "import pandas as pd\n",
    "import numpy as np\n",
    "from sklearn.preprocessing import MinMaxScaler\n",
    "from sklearn.linear_model import LogisticRegression\n",
    "from sklearn.metrics import plot_confusion_matrix,f1_score,precision_score,recall_score,precision_recall_curve,accuracy_score,classification_report,plot_precision_recall_curve\n",
    "from sklearn.metrics import confusion_matrix, plot_roc_curve,log_loss\n",
    "from sklearn.model_selection import RandomizedSearchCV\n",
    "from sklearn.ensemble import RandomForestClassifier,GradientBoostingClassifier\n",
    "from sklearn.tree import DecisionTreeClassifier\n",
    "from scipy.stats import randint, uniform\n",
    "from warnings import filterwarnings\n",
    "filterwarnings(\"ignore\")"
   ]
  },
  {
   "cell_type": "code",
   "execution_count": 180,
   "metadata": {},
   "outputs": [],
   "source": [
    "# import tensorflow as tf\n",
    "# from keras.models import Sequential\n",
    "# from keras.layers import Dense"
   ]
  },
  {
   "cell_type": "code",
   "execution_count": 3,
   "metadata": {},
   "outputs": [],
   "source": [
    "import pickle\n",
    "with open(r\"Train_test_samples/train_test_split1_v4.1.pkl\",\"rb\") as a:\n",
    "    train_test_split = pickle.load(a)\n",
    "with open(r\"saved_pickle/encoders_v4.1.pkl\",\"rb\") as a:\n",
    "    encoders = pickle.load(a)\n",
    "X_train = train_test_split['X_train']\n",
    "X_val = train_test_split['X_val']\n",
    "X_test = train_test_split['X_test']\n",
    "y_train = train_test_split['y_train']\n",
    "y_val = train_test_split['y_val']\n",
    "y_test = train_test_split['y_test']\n",
    "\n",
    "\n",
    "min_scaler = encoders['min_scaler']\n",
    "std_scaler = encoders['std_scaler']\n",
    "encoder = encoders['encoder']"
   ]
  },
  {
   "cell_type": "code",
   "execution_count": 4,
   "metadata": {},
   "outputs": [
    {
     "data": {
      "text/plain": [
       "(85092, 15)"
      ]
     },
     "metadata": {},
     "output_type": "display_data"
    },
    {
     "data": {
      "text/plain": [
       "(7289, 15)"
      ]
     },
     "metadata": {},
     "output_type": "display_data"
    },
    {
     "data": {
      "text/plain": [
       "(7465, 15)"
      ]
     },
     "metadata": {},
     "output_type": "display_data"
    }
   ],
   "source": [
    "display(X_train.shape, X_val.shape, X_test.shape)"
   ]
  },
  {
   "cell_type": "code",
   "execution_count": 5,
   "metadata": {},
   "outputs": [
    {
     "data": {
      "text/plain": [
       "(85092,)"
      ]
     },
     "metadata": {},
     "output_type": "display_data"
    },
    {
     "data": {
      "text/plain": [
       "(7289,)"
      ]
     },
     "metadata": {},
     "output_type": "display_data"
    },
    {
     "data": {
      "text/plain": [
       "(7465,)"
      ]
     },
     "metadata": {},
     "output_type": "display_data"
    }
   ],
   "source": [
    "display(y_train.shape, y_val.shape, y_test.shape)"
   ]
  },
  {
   "cell_type": "code",
   "execution_count": 6,
   "metadata": {},
   "outputs": [],
   "source": [
    "numerical_cols = std_scaler.transform(X_train.select_dtypes(exclude='object'))\n",
    "categorical_cols = encoder.transform(X_train.select_dtypes(include='object'))\n",
    "\n",
    "X_train_scaled = np.hstack((numerical_cols,categorical_cols))"
   ]
  },
  {
   "cell_type": "code",
   "execution_count": 7,
   "metadata": {},
   "outputs": [],
   "source": [
    "numerical_cols_ = std_scaler.transform(X_test.select_dtypes(exclude='object'))\n",
    "categorical_cols_ = encoder.transform(X_test.select_dtypes(include='object'))\n",
    "\n",
    "X_test_scaled = np.hstack((numerical_cols_,categorical_cols_))"
   ]
  },
  {
   "cell_type": "code",
   "execution_count": 8,
   "metadata": {},
   "outputs": [],
   "source": [
    "numerical_cols__ = std_scaler.transform(X_val.select_dtypes(exclude='object'))\n",
    "categorical_cols__ = encoder.transform(X_val.select_dtypes(include='object'))\n",
    "\n",
    "X_val_scaled = np.hstack((numerical_cols__,categorical_cols__))"
   ]
  },
  {
   "cell_type": "code",
   "execution_count": 9,
   "metadata": {},
   "outputs": [
    {
     "data": {
      "text/plain": [
       "team2_won_match\n",
       "1                  46586\n",
       "0                  38506\n",
       "dtype: int64"
      ]
     },
     "execution_count": 9,
     "metadata": {},
     "output_type": "execute_result"
    }
   ],
   "source": [
    "pd.DataFrame(y_train).value_counts()"
   ]
  },
  {
   "cell_type": "code",
   "execution_count": 10,
   "metadata": {},
   "outputs": [],
   "source": [
    "def accuracy_func(x,y,over,model):\n",
    "        x_ = x[x[\"current_over\"]>=over]\n",
    "        y_ = y[x[\"current_over\"]>=over]\n",
    "        \n",
    "        numerical_cols = std_scaler.transform(x_.select_dtypes(exclude='object'))\n",
    "        categorical_cols = encoder.transform(x_.select_dtypes(include='object'))\n",
    "\n",
    "        x_ = np.hstack((numerical_cols,categorical_cols))\n",
    "        return model.score(x_,y_)\n",
    "        "
   ]
  },
  {
   "cell_type": "code",
   "execution_count": 11,
   "metadata": {},
   "outputs": [],
   "source": [
    "def plot_scores(model,name):\n",
    "    accuracy_list_train = []\n",
    "    accuracy_list_test = []\n",
    "    for i in range(20):\n",
    "\n",
    "        accuracy_list_train.append(accuracy_func(X_train,y_train,i,model))\n",
    "        accuracy_list_test.append(accuracy_func(X_test,y_test,i,model))\n",
    "\n",
    "    import matplotlib.pyplot as plt\n",
    "    plt.plot(range(1,21),accuracy_list_train)\n",
    "    plt.plot(range(1,21),accuracy_list_test)\n",
    "    plt.title(name)\n",
    "    plt.xlabel('Over')\n",
    "    plt.ylabel('Accuracy_score')\n",
    "    plt.xticks(range(1,21))\n",
    "    plt.grid()\n",
    "    return plt.show()    "
   ]
  },
  {
   "cell_type": "code",
   "execution_count": 47,
   "metadata": {},
   "outputs": [
    {
     "data": {
      "image/png": "[encoded data removed]",
      "text/plain": [
       "<Figure size 432x288 with 1 Axes>"
      ]
     },
     "metadata": {
      "needs_background": "light"
     },
     "output_type": "display_data"
    },
    {
     "name": "stdout",
     "output_type": "stream",
     "text": [
      "Training Accuracy: 0.6887486485216001\n",
      "Test Accuracy: 0.6065303882562766\n",
      "F1Score: 0.657183839349749\n"
     ]
    },
    {
     "data": {
      "image/png": "[encoded data removed]",
      "text/plain": [
       "<Figure size 432x288 with 2 Axes>"
      ]
     },
     "metadata": {
      "needs_background": "light"
     },
     "output_type": "display_data"
    },
    {
     "data": {
      "image/png": "[encoded data removed]",
      "text/plain": [
       "<Figure size 432x288 with 1 Axes>"
      ]
     },
     "metadata": {
      "needs_background": "light"
     },
     "output_type": "display_data"
    },
    {
     "data": {
      "image/png": "[encoded data removed]",
      "text/plain": [
       "<Figure size 432x288 with 1 Axes>"
      ]
     },
     "metadata": {
      "needs_background": "light"
     },
     "output_type": "display_data"
    }
   ],
   "source": [
    "lr = LogisticRegression(penalty='l2',C = 0.008, solver='liblinear', class_weight={0:0.6,1:0.58})\n",
    "lr.fit(X_train_scaled,y_train)\n",
    "plot_scores(lr,'Logistic Regression')\n",
    "print('Training Accuracy:',accuracy_score(y_train,lr.predict(X_train_scaled)))\n",
    "print('Test Accuracy:', accuracy_score(y_val,lr.predict(X_val_scaled)))\n",
    "plot_confusion_matrix(lr,X_val_scaled,y_val)\n",
    "plot_precision_recall_curve(lr,X_val_scaled,y_val)\n",
    "plot_roc_curve(lr, X_val_scaled,y_val)\n",
    "print('F1Score:', f1_score(y_val,lr.predict(X_val_scaled)))"
   ]
  },
  {
   "cell_type": "code",
   "execution_count": 146,
   "metadata": {},
   "outputs": [
    {
     "data": {
      "image/png": "[encoded data removed]",
      "text/plain": [
       "<Figure size 432x288 with 1 Axes>"
      ]
     },
     "metadata": {
      "needs_background": "light"
     },
     "output_type": "display_data"
    },
    {
     "name": "stdout",
     "output_type": "stream",
     "text": [
      "Training Accuracy: 0.5924881304940535\n",
      "Test Accuracy: 0.6133900397859788\n",
      "F1Score: 0.7432580174927113\n"
     ]
    },
    {
     "data": {
      "image/png": "[encoded data removed]",
      "text/plain": [
       "<Figure size 432x288 with 2 Axes>"
      ]
     },
     "metadata": {
      "needs_background": "light"
     },
     "output_type": "display_data"
    },
    {
     "data": {
      "image/png": "[encoded data removed]",
      "text/plain": [
       "<Figure size 432x288 with 1 Axes>"
      ]
     },
     "metadata": {
      "needs_background": "light"
     },
     "output_type": "display_data"
    },
    {
     "data": {
      "image/png": "[encoded data removed]",
      "text/plain": [
       "<Figure size 432x288 with 1 Axes>"
      ]
     },
     "metadata": {
      "needs_background": "light"
     },
     "output_type": "display_data"
    }
   ],
   "source": [
    "from sklearn.tree import DecisionTreeClassifier\n",
    "\n",
    "#Hyper Parameter Tuning\n",
    "param_dist = {  \"splitter\":['best','random'],\n",
    "                \"criterion\":['gini','entropy'],\n",
    "                \"max_features\":uniform(0.1,1.0),\n",
    "                \"max_depth\":range(1,7),\n",
    "                \"max_leaf_nodes\":range(1,7)\n",
    "            }\n",
    "clf = RandomizedSearchCV(DecisionTreeClassifier(class_weight={0:0.6,1:0.5}),\n",
    "                        param_distributions= param_dist,n_iter=50, cv=5)\n",
    "clf.fit(X_train_scaled,y_train)\n",
    "dtc = clf.best_estimator_\n",
    "\n",
    "dtc.fit(X_train_scaled,y_train)\n",
    "# lr = DecisionTreeClassifier(max_depth=2, max_leaf_nodes=3, max_features=0.3).fit(X_train_scaled,y_train)\n",
    "plot_scores(dtc,'Decision Tree Classifier')\n",
    "print('Training Accuracy:',accuracy_score(y_train,dtc.predict(X_train_scaled)))\n",
    "print('Test Accuracy:', accuracy_score(y_val,dtc.predict(X_val_scaled)))\n",
    "plot_confusion_matrix(dtc,X_val_scaled,y_val)\n",
    "plot_precision_recall_curve(dtc,X_val_scaled,y_val)\n",
    "plot_roc_curve(dtc, X_val_scaled,y_val)\n",
    "print('F1Score:', f1_score(y_val,dtc.predict(X_val_scaled)))"
   ]
  },
  {
   "cell_type": "code",
   "execution_count": 140,
   "metadata": {},
   "outputs": [
    {
     "data": {
      "image/png": "[encoded data removed]",
      "text/plain": [
       "<Figure size 432x288 with 1 Axes>"
      ]
     },
     "metadata": {
      "needs_background": "light"
     },
     "output_type": "display_data"
    },
    {
     "name": "stdout",
     "output_type": "stream",
     "text": [
      "Training Accuracy: 0.6844239176420815\n",
      "Test Accuracy: 0.6394567155988475\n",
      "F1Score: 0.6961849710982659\n"
     ]
    },
    {
     "data": {
      "image/png": "[encoded data removed]",
      "text/plain": [
       "<Figure size 432x288 with 2 Axes>"
      ]
     },
     "metadata": {
      "needs_background": "light"
     },
     "output_type": "display_data"
    },
    {
     "data": {
      "image/png": "[encoded data removed]",
      "text/plain": [
       "<Figure size 432x288 with 1 Axes>"
      ]
     },
     "metadata": {
      "needs_background": "light"
     },
     "output_type": "display_data"
    },
    {
     "data": {
      "image/png": "[encoded data removed]",
      "text/plain": [
       "<Figure size 432x288 with 1 Axes>"
      ]
     },
     "metadata": {
      "needs_background": "light"
     },
     "output_type": "display_data"
    }
   ],
   "source": [
    "gbdt = GradientBoostingClassifier(\n",
    "                            max_depth=3,\n",
    "                            subsample=0.9,\n",
    "                            max_features=0.5,\n",
    "                            min_samples_leaf=3,\n",
    "                            n_estimators = 30\n",
    "                            )\n",
    "\n",
    "\n",
    "gbdt.fit(X_train_scaled,y_train)\n",
    "\n",
    "plot_scores(gbdt,'Gradient Boosting Classifier')\n",
    "print('Training Accuracy:',accuracy_score(y_train,gbdt.predict(X_train_scaled)))\n",
    "print('Test Accuracy:', accuracy_score(y_val,gbdt.predict(X_val_scaled)))\n",
    "plot_confusion_matrix(gbdt,X_val_scaled,y_val)\n",
    "plot_precision_recall_curve(gbdt,X_val_scaled,y_val)\n",
    "plot_roc_curve(gbdt, X_val_scaled,y_val)\n",
    "print('F1Score:', f1_score(y_val,gbdt.predict(X_val_scaled)))"
   ]
  },
  {
   "cell_type": "code",
   "execution_count": 143,
   "metadata": {},
   "outputs": [
    {
     "data": {
      "image/png": "[encoded data removed]",
      "text/plain": [
       "<Figure size 432x288 with 1 Axes>"
      ]
     },
     "metadata": {
      "needs_background": "light"
     },
     "output_type": "display_data"
    },
    {
     "name": "stdout",
     "output_type": "stream",
     "text": [
      "Training Accuracy: 0.6142763126968458\n",
      "Test Accuracy: 0.5682535327205378\n",
      "F1Score: 0.6438836709290484\n"
     ]
    },
    {
     "data": {
      "image/png": "[encoded data removed]",
      "text/plain": [
       "<Figure size 432x288 with 2 Axes>"
      ]
     },
     "metadata": {
      "needs_background": "light"
     },
     "output_type": "display_data"
    },
    {
     "data": {
      "image/png": "[encoded data removed]",
      "text/plain": [
       "<Figure size 432x288 with 1 Axes>"
      ]
     },
     "metadata": {
      "needs_background": "light"
     },
     "output_type": "display_data"
    },
    {
     "data": {
      "image/png": "[encoded data removed]",
      "text/plain": [
       "<Figure size 432x288 with 1 Axes>"
      ]
     },
     "metadata": {
      "needs_background": "light"
     },
     "output_type": "display_data"
    }
   ],
   "source": [
    "rfc = RandomForestClassifier(n_estimators= 200,\n",
    "                             max_depth=3, \n",
    "                             max_leaf_nodes=3, \n",
    "                             max_features=0.3).fit(X_train_scaled,y_train)\n",
    "plot_scores(rfc,'Random Forest Classifier')\n",
    "print('Training Accuracy:',accuracy_score(y_train,rfc.predict(X_train_scaled)))\n",
    "print('Test Accuracy:', accuracy_score(y_val,rfc.predict(X_val_scaled)))\n",
    "plot_confusion_matrix(rfc,X_val_scaled,y_val)\n",
    "plot_precision_recall_curve(rfc,X_val_scaled,y_val)\n",
    "plot_roc_curve(rfc, X_val_scaled,y_val)\n",
    "print('F1Score:', f1_score(y_val,rfc.predict(X_val_scaled)))"
   ]
  },
  {
   "cell_type": "code",
   "execution_count": 76,
   "metadata": {},
   "outputs": [],
   "source": [
    "import pickle\n",
    "with open(\"saved_pickle/model_gbdt2_tb_inn1.pkl\", 'wb') as f:\n",
    "    pickle.dump(gbdt,f)"
   ]
  },
  {
   "cell_type": "code",
   "execution_count": null,
   "metadata": {},
   "outputs": [],
   "source": [
    "with open(\"saved_pickle/model_gbdt_tb1_inn1.pkl\", 'rb') as f:\n",
    "    gbdt= pickle.load(f)"
   ]
  },
  {
   "cell_type": "code",
   "execution_count": 11,
   "metadata": {},
   "outputs": [
    {
     "data": {
      "text/plain": [
       "GradientBoostingClassifier(max_depth=2, max_features=0.6, n_estimators=150,\n",
       "                           subsample=0.3)"
      ]
     },
     "execution_count": 11,
     "metadata": {},
     "output_type": "execute_result"
    }
   ],
   "source": [
    "lr = GradientBoostingClassifier(max_depth=2,\n",
    "                           max_features=0.6,\n",
    "                           subsample=0.3,\n",
    "                           n_estimators = 150)\n",
    "lr.fit(X_train_scaled,y_train)"
   ]
  },
  {
   "cell_type": "code",
   "execution_count": 12,
   "metadata": {},
   "outputs": [],
   "source": [
    "# lr = XGBClassifier(max_depth=4,\n",
    "#                 colsample_bytree=0.4,\n",
    "#                 subsample=0.6,\n",
    "#                 n_estimators = 100,\n",
    "#                    reg_lambda = 30\n",
    "#               )\n",
    "# lr.fit(X_train_scaled,y_train)"
   ]
  },
  {
   "cell_type": "code",
   "execution_count": null,
   "metadata": {},
   "outputs": [],
   "source": []
  },
  {
   "cell_type": "code",
   "execution_count": null,
   "metadata": {},
   "outputs": [],
   "source": []
  },
  {
   "cell_type": "code",
   "execution_count": null,
   "metadata": {},
   "outputs": [],
   "source": []
  },
  {
   "cell_type": "code",
   "execution_count": null,
   "metadata": {},
   "outputs": [],
   "source": []
  },
  {
   "cell_type": "code",
   "execution_count": null,
   "metadata": {},
   "outputs": [],
   "source": []
  },
  {
   "cell_type": "code",
   "execution_count": 185,
   "metadata": {},
   "outputs": [],
   "source": [
    "# model = Sequential()\n",
    "\n",
    "# model.add(Dense(units = 16, input_dim = 72, activation = 'relu'))\n",
    "# model.add(Dense(units = 16, activation = 'relu'))\n",
    "# # model.add(Dense(units = 16, activation = 'relu'))\n",
    "# model.add(Dense(units = 1, activation = 'sigmoid'))"
   ]
  },
  {
   "cell_type": "code",
   "execution_count": 186,
   "metadata": {},
   "outputs": [],
   "source": [
    "# model.compile(loss=\"binary_crossentropy\", optimizer= \"adam\", metrics= ['accuracy'])"
   ]
  },
  {
   "cell_type": "code",
   "execution_count": 187,
   "metadata": {},
   "outputs": [
    {
     "name": "stdout",
     "output_type": "stream",
     "text": [
      "Epoch 1/30\n",
      "9239/9239 [==============================] - 58s 6ms/step - loss: 0.4469 - accuracy: 0.7831\n",
      "Epoch 2/30\n",
      "9239/9239 [==============================] - 51s 6ms/step - loss: 0.2470 - accuracy: 0.8911\n",
      "Epoch 3/30\n",
      "9239/9239 [==============================] - 51s 6ms/step - loss: 0.1931 - accuracy: 0.9167\n",
      "Epoch 4/30\n",
      "9239/9239 [==============================] - 51s 6ms/step - loss: 0.1692 - accuracy: 0.9275\n",
      "Epoch 5/30\n",
      "9239/9239 [==============================] - 51s 6ms/step - loss: 0.1532 - accuracy: 0.9352\n",
      "Epoch 6/30\n",
      "9239/9239 [==============================] - 51s 6ms/step - loss: 0.1438 - accuracy: 0.9394\n",
      "Epoch 7/30\n",
      "9239/9239 [==============================] - 52s 6ms/step - loss: 0.1364 - accuracy: 0.9436\n",
      "Epoch 8/30\n",
      "9239/9239 [==============================] - 53s 6ms/step - loss: 0.1281 - accuracy: 0.9464\n",
      "Epoch 9/30\n",
      "9239/9239 [==============================] - 52s 6ms/step - loss: 0.1233 - accuracy: 0.9492\n",
      "Epoch 10/30\n",
      "9239/9239 [==============================] - 52s 6ms/step - loss: 0.1196 - accuracy: 0.9499\n",
      "Epoch 11/30\n",
      "9239/9239 [==============================] - 52s 6ms/step - loss: 0.1162 - accuracy: 0.9512\n",
      "Epoch 12/30\n",
      "9239/9239 [==============================] - 52s 6ms/step - loss: 0.1122 - accuracy: 0.9533\n",
      "Epoch 13/30\n",
      "9239/9239 [==============================] - 51s 6ms/step - loss: 0.1102 - accuracy: 0.9538\n",
      "Epoch 14/30\n",
      "9239/9239 [==============================] - 52s 6ms/step - loss: 0.1076 - accuracy: 0.9549\n",
      "Epoch 15/30\n",
      "9239/9239 [==============================] - 52s 6ms/step - loss: 0.1053 - accuracy: 0.9569\n",
      "Epoch 16/30\n",
      "9239/9239 [==============================] - 52s 6ms/step - loss: 0.1034 - accuracy: 0.9574\n",
      "Epoch 17/30\n",
      "9239/9239 [==============================] - 52s 6ms/step - loss: 0.1014 - accuracy: 0.9581\n",
      "Epoch 18/30\n",
      "9239/9239 [==============================] - 52s 6ms/step - loss: 0.0995 - accuracy: 0.9596\n",
      "Epoch 19/30\n",
      "9239/9239 [==============================] - 52s 6ms/step - loss: 0.0979 - accuracy: 0.9592\n",
      "Epoch 20/30\n",
      "9239/9239 [==============================] - 52s 6ms/step - loss: 0.0965 - accuracy: 0.9602\n",
      "Epoch 21/30\n",
      "9239/9239 [==============================] - 53s 6ms/step - loss: 0.0952 - accuracy: 0.9606\n",
      "Epoch 22/30\n",
      "9239/9239 [==============================] - 52s 6ms/step - loss: 0.0939 - accuracy: 0.9618\n",
      "Epoch 23/30\n",
      "9239/9239 [==============================] - 52s 6ms/step - loss: 0.0925 - accuracy: 0.9626\n",
      "Epoch 24/30\n",
      "9239/9239 [==============================] - 52s 6ms/step - loss: 0.0914 - accuracy: 0.9629\n",
      "Epoch 25/30\n",
      "9239/9239 [==============================] - 52s 6ms/step - loss: 0.0906 - accuracy: 0.9633\n",
      "Epoch 26/30\n",
      "9239/9239 [==============================] - 52s 6ms/step - loss: 0.0897 - accuracy: 0.9640\n",
      "Epoch 27/30\n",
      "9239/9239 [==============================] - 52s 6ms/step - loss: 0.0883 - accuracy: 0.9646\n",
      "Epoch 28/30\n",
      "9239/9239 [==============================] - 52s 6ms/step - loss: 0.0877 - accuracy: 0.9647\n",
      "Epoch 29/30\n",
      "9239/9239 [==============================] - 52s 6ms/step - loss: 0.0867 - accuracy: 0.9650\n",
      "Epoch 30/30\n",
      "9239/9239 [==============================] - 52s 6ms/step - loss: 0.0859 - accuracy: 0.9656\n"
     ]
    }
   ],
   "source": [
    "# model_fit = model.fit(x = X_train_scaled,y = y_train, batch_size=10, epochs=30, shuffle=True)"
   ]
  },
  {
   "cell_type": "code",
   "execution_count": 188,
   "metadata": {},
   "outputs": [],
   "source": [
    "lr = model_fit"
   ]
  },
  {
   "cell_type": "code",
   "execution_count": null,
   "metadata": {},
   "outputs": [],
   "source": []
  },
  {
   "cell_type": "code",
   "execution_count": null,
   "metadata": {},
   "outputs": [],
   "source": []
  },
  {
   "cell_type": "code",
   "execution_count": 433,
   "metadata": {},
   "outputs": [],
   "source": [
    "# import pickle\n",
    "# with open(\"saved_pickle/model_inn1.pkl\", 'wb') as f:\n",
    "#     pickle.dump(lr,f)"
   ]
  },
  {
   "cell_type": "code",
   "execution_count": 36,
   "metadata": {},
   "outputs": [],
   "source": [
    "# with open(\"saved_pickle/column_sequence1.pkl\", \"rb\") as a:\n",
    "#     col_seq = pickle.load(a)"
   ]
  },
  {
   "cell_type": "code",
   "execution_count": 37,
   "metadata": {},
   "outputs": [
    {
     "data": {
      "text/plain": [
       "Index(['score', 'team1_ban', 'team1_csk', 'team2_dd', 'team2_rr'], dtype='object')"
      ]
     },
     "execution_count": 37,
     "metadata": {},
     "output_type": "execute_result"
    }
   ],
   "source": [
    "col_seq"
   ]
  },
  {
   "cell_type": "markdown",
   "metadata": {},
   "source": [
    "# *Hyperparameter Tuning for LogisticRegression*"
   ]
  },
  {
   "cell_type": "code",
   "execution_count": 65,
   "metadata": {},
   "outputs": [
    {
     "data": {
      "text/plain": [
       "LogisticRegression(C=0.1,\n",
       "                   class_weight=<scipy.stats._distn_infrastructure.rv_frozen object at 0x000001CAEA0A9CA0>)"
      ]
     },
     "execution_count": 65,
     "metadata": {},
     "output_type": "execute_result"
    }
   ],
   "source": [
    "# param_dist = {\n",
    "#              \"C\":[0.1,1,10,100],\n",
    "#              \"class_weight\":{0:uniform(0,1), 1:uniform(0,1)}\n",
    "#              }\n",
    "# clf = RandomizedSearchCV(LogisticRegression(),\n",
    "#                         param_distributions= param_dist, n_iter=10, cv=5)\n",
    "# clf.fit(X_train_scaled,y_train)\n",
    "# lr = clf.best_estimator_\n",
    "# lr"
   ]
  },
  {
   "cell_type": "markdown",
   "metadata": {},
   "source": [
    "# *Hyperparameter Tuning for RandomForest*"
   ]
  },
  {
   "cell_type": "code",
   "execution_count": 13,
   "metadata": {},
   "outputs": [
    {
     "data": {
      "text/plain": [
       "RandomForestClassifier(max_depth=14, max_features=9,\n",
       "                       max_samples=0.7781461979598258, n_estimators=70)"
      ]
     },
     "execution_count": 13,
     "metadata": {},
     "output_type": "execute_result"
    }
   ],
   "source": [
    "# param_dist = {\"n_estimators\": list(range(10,100,10)),\n",
    "#                \"max_features\":range(5,20,2),\n",
    "#                \"max_samples\":uniform(0.1,0.8),\n",
    "#               \"max_depth\":range(3,15),\n",
    "              \n",
    "#              }\n",
    "# clf = RandomizedSearchCV(RandomForestClassifier(),\n",
    "#                         param_distributions= param_dist, n_iter=20, cv=5)\n",
    "# clf.fit(X_train_scaled,y_train)\n",
    "# lr = clf.best_estimator_\n",
    "# lr"
   ]
  },
  {
   "cell_type": "code",
   "execution_count": 255,
   "metadata": {},
   "outputs": [
    {
     "data": {
      "text/plain": [
       "GradientBoostingClassifier(max_features=0.4046128221252464, min_samples_leaf=3,\n",
       "                           n_estimators=20)"
      ]
     },
     "execution_count": 255,
     "metadata": {},
     "output_type": "execute_result"
    }
   ],
   "source": [
    "# param_dist = {\n",
    "#                 \"n_estimators\": range(10,40,10),\n",
    "#                 \"max_features\":uniform(0.2,0.5),\n",
    "#                 \"max_depth\":range(1,5),\n",
    "#                 \"min_samples_leaf\":range(1,5)\n",
    "#              }\n",
    "# clf = RandomizedSearchCV(GradientBoostingClassifier(),\n",
    "#                         param_distributions= param_dist,n_iter=30, cv=3)\n",
    "# clf.fit(X_train_scaled,y_train)\n",
    "# lr = clf.best_estimator_\n",
    "# lr"
   ]
  },
  {
   "cell_type": "code",
   "execution_count": null,
   "metadata": {},
   "outputs": [],
   "source": []
  },
  {
   "cell_type": "code",
   "execution_count": null,
   "metadata": {},
   "outputs": [],
   "source": []
  },
  {
   "cell_type": "markdown",
   "metadata": {},
   "source": [
    "## Checking what is causing the Underfitting in model"
   ]
  },
  {
   "cell_type": "code",
   "execution_count": null,
   "metadata": {},
   "outputs": [],
   "source": [
    "import os\n",
    "os.chdir('../')\n",
    "# cwd = os.getcwd()  # Get the current working directory (cwd)\n",
    "# files = os.listdir(cwd)  # Get all the files in that directory\n",
    "# print(\"Files in %r: %s\" % (cwd, files))"
   ]
  },
  {
   "cell_type": "code",
   "execution_count": null,
   "metadata": {},
   "outputs": [
    {
     "name": "stdout",
     "output_type": "stream",
     "text": [
      "Files in 'C:\\\\Users\\\\Deepesh\\\\Practice\\\\archive (1)': ['.ipynb_checkpoints', '1648479876203.jpg', 'beautifulSoup.ipynb', 'best_model_yet.sav', 'best_rf_model.sav', 'bootstraping.ipynb', 'Data Preparation.ipynb', 'dataset_v1.csv', 'dataset_v2.csv', 'data_preparation.ipynb', 'data_preparationv2.ipynb', 'data_prep_v3.ipynb', 'data_v2.csv', 'data_v2.ipynb', 'data_v3.csv', 'functional.py', 'hyper_param_tuning.ipynb', 'idea.ipynb', 'IPL Ball-by-Ball 2008-2020.csv', 'IPL Matches 2008-2020.csv', 'Model Building', 'modelling.ipynb', 'Modelling1.ipynb', 'Modelling2-2.ipynb', 'Modelling2.ipynb', 'Modelling3.ipynb', 'Modelling4.ipynb', 'saved_pickle', 'special_split.ipynb', 'Test_x.pkl', 'titanic', 'titanic.ipynb', 'titanic.zip', 'Train_test_samples', 'Untitled Folder', 'Untitled.ipynb', 'Untitled1.ipynb', 'Untitled2.ipynb']\n"
     ]
    }
   ],
   "source": [
    "cwd = os.getcwd()  # Get the current working directory (cwd)\n",
    "files = os.listdir(cwd)  # Get all the files in that directory\n",
    "print(\"Files in %r: %s\" % (cwd, files))"
   ]
  },
  {
   "cell_type": "code",
   "execution_count": null,
   "metadata": {},
   "outputs": [],
   "source": [
    "view = pd.read_csv('abc.csv')"
   ]
  },
  {
   "cell_type": "code",
   "execution_count": null,
   "metadata": {},
   "outputs": [
    {
     "data": {
      "text/html": [
       "<div>\n",
       "<style scoped>\n",
       "    .dataframe tbody tr th:only-of-type {\n",
       "        vertical-align: middle;\n",
       "    }\n",
       "\n",
       "    .dataframe tbody tr th {\n",
       "        vertical-align: top;\n",
       "    }\n",
       "\n",
       "    .dataframe thead th {\n",
       "        text-align: right;\n",
       "    }\n",
       "</style>\n",
       "<table border=\"1\" class=\"dataframe\">\n",
       "  <thead>\n",
       "    <tr style=\"text-align: right;\">\n",
       "      <th></th>\n",
       "      <th>Unnamed: 0</th>\n",
       "      <th>0</th>\n",
       "      <th>1</th>\n",
       "    </tr>\n",
       "  </thead>\n",
       "  <tbody>\n",
       "    <tr>\n",
       "      <th>0</th>\n",
       "      <td>team1=&gt;Gujarat Titans</td>\n",
       "      <td>121.0</td>\n",
       "      <td>1233.0</td>\n",
       "    </tr>\n",
       "    <tr>\n",
       "      <th>1</th>\n",
       "      <td>team1=&gt;Kochi Tuskers Kerala</td>\n",
       "      <td>123.0</td>\n",
       "      <td>382.0</td>\n",
       "    </tr>\n",
       "    <tr>\n",
       "      <th>2</th>\n",
       "      <td>venue=&gt;OUTsurance Oval</td>\n",
       "      <td>124.0</td>\n",
       "      <td>NaN</td>\n",
       "    </tr>\n",
       "    <tr>\n",
       "      <th>3</th>\n",
       "      <td>venue=&gt;Vidarbha Cricket Association Stadium</td>\n",
       "      <td>124.0</td>\n",
       "      <td>NaN</td>\n",
       "    </tr>\n",
       "    <tr>\n",
       "      <th>4</th>\n",
       "      <td>venue=&gt;Holkar Cricket Stadium</td>\n",
       "      <td>125.0</td>\n",
       "      <td>834.0</td>\n",
       "    </tr>\n",
       "    <tr>\n",
       "      <th>5</th>\n",
       "      <td>venue=&gt;Himachal Pradesh Cricket Association St...</td>\n",
       "      <td>127.0</td>\n",
       "      <td>492.0</td>\n",
       "    </tr>\n",
       "    <tr>\n",
       "      <th>6</th>\n",
       "      <td>venue=&gt;JSCA International Stadium Complex</td>\n",
       "      <td>224.0</td>\n",
       "      <td>365.0</td>\n",
       "    </tr>\n",
       "    <tr>\n",
       "      <th>7</th>\n",
       "      <td>team1=&gt;Rising Pune Supergiant</td>\n",
       "      <td>246.0</td>\n",
       "      <td>374.0</td>\n",
       "    </tr>\n",
       "    <tr>\n",
       "      <th>8</th>\n",
       "      <td>venue=&gt;St George's Park</td>\n",
       "      <td>248.0</td>\n",
       "      <td>247.0</td>\n",
       "    </tr>\n",
       "    <tr>\n",
       "      <th>9</th>\n",
       "      <td>venue=&gt;Buffalo Park</td>\n",
       "      <td>250.0</td>\n",
       "      <td>130.0</td>\n",
       "    </tr>\n",
       "    <tr>\n",
       "      <th>10</th>\n",
       "      <td>venue=&gt;Nehru Stadium</td>\n",
       "      <td>250.0</td>\n",
       "      <td>228.0</td>\n",
       "    </tr>\n",
       "    <tr>\n",
       "      <th>11</th>\n",
       "      <td>venue=&gt;Shaheed Veer Narayan Singh Internationa...</td>\n",
       "      <td>251.0</td>\n",
       "      <td>491.0</td>\n",
       "    </tr>\n",
       "    <tr>\n",
       "      <th>12</th>\n",
       "      <td>team2=&gt;Rising Pune Supergiants</td>\n",
       "      <td>251.0</td>\n",
       "      <td>372.0</td>\n",
       "    </tr>\n",
       "    <tr>\n",
       "      <th>13</th>\n",
       "      <td>venue=&gt;Saurashtra Cricket Association Stadium</td>\n",
       "      <td>366.0</td>\n",
       "      <td>740.0</td>\n",
       "    </tr>\n",
       "    <tr>\n",
       "      <th>14</th>\n",
       "      <td>venue=&gt;Barabati Stadium</td>\n",
       "      <td>367.0</td>\n",
       "      <td>368.0</td>\n",
       "    </tr>\n",
       "    <tr>\n",
       "      <th>15</th>\n",
       "      <td>venue=&gt;Sardar Patel Stadium, Motera</td>\n",
       "      <td>371.0</td>\n",
       "      <td>121.0</td>\n",
       "    </tr>\n",
       "    <tr>\n",
       "      <th>16</th>\n",
       "      <td>team2=&gt;Kochi Tuskers Kerala</td>\n",
       "      <td>372.0</td>\n",
       "      <td>343.0</td>\n",
       "    </tr>\n",
       "    <tr>\n",
       "      <th>17</th>\n",
       "      <td>team1=&gt;Pune Warriors</td>\n",
       "      <td>373.0</td>\n",
       "      <td>1462.0</td>\n",
       "    </tr>\n",
       "    <tr>\n",
       "      <th>18</th>\n",
       "      <td>team2=&gt;Rising Pune Supergiant</td>\n",
       "      <td>374.0</td>\n",
       "      <td>463.0</td>\n",
       "    </tr>\n",
       "    <tr>\n",
       "      <th>19</th>\n",
       "      <td>venue=&gt;New Wanderers Stadium</td>\n",
       "      <td>377.0</td>\n",
       "      <td>372.0</td>\n",
       "    </tr>\n",
       "    <tr>\n",
       "      <th>20</th>\n",
       "      <td>venue=&gt;SuperSport Park</td>\n",
       "      <td>477.0</td>\n",
       "      <td>638.0</td>\n",
       "    </tr>\n",
       "    <tr>\n",
       "      <th>21</th>\n",
       "      <td>team2=&gt;Gujarat Titans</td>\n",
       "      <td>488.0</td>\n",
       "      <td>1236.0</td>\n",
       "    </tr>\n",
       "    <tr>\n",
       "      <th>22</th>\n",
       "      <td>venue=&gt;Kingsmead</td>\n",
       "      <td>491.0</td>\n",
       "      <td>742.0</td>\n",
       "    </tr>\n",
       "    <tr>\n",
       "      <th>23</th>\n",
       "      <td>venue=&gt;Dr. Y.S. Rajasekhara Reddy ACA-VDCA Cri...</td>\n",
       "      <td>615.0</td>\n",
       "      <td>616.0</td>\n",
       "    </tr>\n",
       "    <tr>\n",
       "      <th>24</th>\n",
       "      <td>venue=&gt;Newlands</td>\n",
       "      <td>618.0</td>\n",
       "      <td>NaN</td>\n",
       "    </tr>\n",
       "    <tr>\n",
       "      <th>25</th>\n",
       "      <td>venue=&gt;Dr DY Patil Sports Academy</td>\n",
       "      <td>622.0</td>\n",
       "      <td>1087.0</td>\n",
       "    </tr>\n",
       "    <tr>\n",
       "      <th>26</th>\n",
       "      <td>venue=&gt;Sharjah Cricket Stadium</td>\n",
       "      <td>624.0</td>\n",
       "      <td>1116.0</td>\n",
       "    </tr>\n",
       "    <tr>\n",
       "      <th>27</th>\n",
       "      <td>venue=&gt;Brabourne Stadium</td>\n",
       "      <td>627.0</td>\n",
       "      <td>377.0</td>\n",
       "    </tr>\n",
       "    <tr>\n",
       "      <th>28</th>\n",
       "      <td>venue=&gt;Subrata Roy Sahara Stadium</td>\n",
       "      <td>740.0</td>\n",
       "      <td>612.0</td>\n",
       "    </tr>\n",
       "    <tr>\n",
       "      <th>29</th>\n",
       "      <td>venue=&gt;Maharashtra Cricket Association Stadium</td>\n",
       "      <td>756.0</td>\n",
       "      <td>1344.0</td>\n",
       "    </tr>\n",
       "    <tr>\n",
       "      <th>30</th>\n",
       "      <td>venue=&gt;Sheikh Zayed Stadium</td>\n",
       "      <td>1243.0</td>\n",
       "      <td>1704.0</td>\n",
       "    </tr>\n",
       "    <tr>\n",
       "      <th>31</th>\n",
       "      <td>venue=&gt;Sawai Mansingh Stadium</td>\n",
       "      <td>1735.0</td>\n",
       "      <td>2986.0</td>\n",
       "    </tr>\n",
       "    <tr>\n",
       "      <th>32</th>\n",
       "      <td>team2=&gt;Pune Warriors</td>\n",
       "      <td>1859.0</td>\n",
       "      <td>613.0</td>\n",
       "    </tr>\n",
       "    <tr>\n",
       "      <th>33</th>\n",
       "      <td>venue=&gt;Dubai International Cricket Stadium</td>\n",
       "      <td>1875.0</td>\n",
       "      <td>1362.0</td>\n",
       "    </tr>\n",
       "    <tr>\n",
       "      <th>34</th>\n",
       "      <td>venue=&gt;Punjab Cricket Association IS Bindra St...</td>\n",
       "      <td>2415.0</td>\n",
       "      <td>3412.0</td>\n",
       "    </tr>\n",
       "    <tr>\n",
       "      <th>35</th>\n",
       "      <td>team1=&gt;Rajasthan Royals</td>\n",
       "      <td>2728.0</td>\n",
       "      <td>3407.0</td>\n",
       "    </tr>\n",
       "    <tr>\n",
       "      <th>36</th>\n",
       "      <td>venue=&gt;Rajiv Gandhi International Stadium</td>\n",
       "      <td>2740.0</td>\n",
       "      <td>3093.0</td>\n",
       "    </tr>\n",
       "    <tr>\n",
       "      <th>37</th>\n",
       "      <td>venue=&gt;MA Chidambaram Stadium, Chepauk</td>\n",
       "      <td>2860.0</td>\n",
       "      <td>2119.0</td>\n",
       "    </tr>\n",
       "    <tr>\n",
       "      <th>38</th>\n",
       "      <td>venue=&gt;Wankhede Stadium</td>\n",
       "      <td>2979.0</td>\n",
       "      <td>3567.0</td>\n",
       "    </tr>\n",
       "    <tr>\n",
       "      <th>39</th>\n",
       "      <td>team2=&gt;Chennai Super Kings</td>\n",
       "      <td>2984.0</td>\n",
       "      <td>5079.0</td>\n",
       "    </tr>\n",
       "    <tr>\n",
       "      <th>40</th>\n",
       "      <td>venue=&gt;Feroz Shah Kotla</td>\n",
       "      <td>2988.0</td>\n",
       "      <td>3406.0</td>\n",
       "    </tr>\n",
       "    <tr>\n",
       "      <th>41</th>\n",
       "      <td>team2=&gt;Mumbai Indians</td>\n",
       "      <td>2990.0</td>\n",
       "      <td>5525.0</td>\n",
       "    </tr>\n",
       "    <tr>\n",
       "      <th>42</th>\n",
       "      <td>venue=&gt;Eden Gardens</td>\n",
       "      <td>3069.0</td>\n",
       "      <td>3774.0</td>\n",
       "    </tr>\n",
       "    <tr>\n",
       "      <th>43</th>\n",
       "      <td>venue=&gt;M Chinnaswamy Stadium</td>\n",
       "      <td>3325.0</td>\n",
       "      <td>4237.0</td>\n",
       "    </tr>\n",
       "    <tr>\n",
       "      <th>44</th>\n",
       "      <td>team2=&gt;Rajasthan Royals</td>\n",
       "      <td>3492.0</td>\n",
       "      <td>4439.0</td>\n",
       "    </tr>\n",
       "    <tr>\n",
       "      <th>45</th>\n",
       "      <td>team1=&gt;Delhi Capitals</td>\n",
       "      <td>3623.0</td>\n",
       "      <td>3730.0</td>\n",
       "    </tr>\n",
       "    <tr>\n",
       "      <th>46</th>\n",
       "      <td>team1=&gt;Punjab Kings</td>\n",
       "      <td>3667.0</td>\n",
       "      <td>5885.0</td>\n",
       "    </tr>\n",
       "    <tr>\n",
       "      <th>47</th>\n",
       "      <td>team2=&gt;Kolkata Knight Riders</td>\n",
       "      <td>3946.0</td>\n",
       "      <td>5507.0</td>\n",
       "    </tr>\n",
       "    <tr>\n",
       "      <th>48</th>\n",
       "      <td>team1=&gt;Kolkata Knight Riders</td>\n",
       "      <td>3953.0</td>\n",
       "      <td>5199.0</td>\n",
       "    </tr>\n",
       "    <tr>\n",
       "      <th>49</th>\n",
       "      <td>team2=&gt;Punjab Kings</td>\n",
       "      <td>3958.0</td>\n",
       "      <td>4374.0</td>\n",
       "    </tr>\n",
       "    <tr>\n",
       "      <th>50</th>\n",
       "      <td>team2=&gt;Sunrisers Hyderabad</td>\n",
       "      <td>3963.0</td>\n",
       "      <td>3820.0</td>\n",
       "    </tr>\n",
       "    <tr>\n",
       "      <th>51</th>\n",
       "      <td>team1=&gt;Royal Challengers Bangalore</td>\n",
       "      <td>4201.0</td>\n",
       "      <td>4551.0</td>\n",
       "    </tr>\n",
       "    <tr>\n",
       "      <th>52</th>\n",
       "      <td>team1=&gt;Chennai Super Kings</td>\n",
       "      <td>4307.0</td>\n",
       "      <td>3942.0</td>\n",
       "    </tr>\n",
       "    <tr>\n",
       "      <th>53</th>\n",
       "      <td>team2=&gt;Royal Challengers Bangalore</td>\n",
       "      <td>4389.0</td>\n",
       "      <td>4581.0</td>\n",
       "    </tr>\n",
       "    <tr>\n",
       "      <th>54</th>\n",
       "      <td>team1=&gt;Sunrisers Hyderabad</td>\n",
       "      <td>4684.0</td>\n",
       "      <td>5570.0</td>\n",
       "    </tr>\n",
       "    <tr>\n",
       "      <th>55</th>\n",
       "      <td>team2=&gt;Delhi Capitals</td>\n",
       "      <td>4937.0</td>\n",
       "      <td>4596.0</td>\n",
       "    </tr>\n",
       "    <tr>\n",
       "      <th>56</th>\n",
       "      <td>team1=&gt;Mumbai Indians</td>\n",
       "      <td>5977.0</td>\n",
       "      <td>4592.0</td>\n",
       "    </tr>\n",
       "    <tr>\n",
       "      <th>57</th>\n",
       "      <td>venue=&gt;De Beers Diamond Oval</td>\n",
       "      <td>NaN</td>\n",
       "      <td>125.0</td>\n",
       "    </tr>\n",
       "    <tr>\n",
       "      <th>58</th>\n",
       "      <td>venue=&gt;Green Park</td>\n",
       "      <td>NaN</td>\n",
       "      <td>243.0</td>\n",
       "    </tr>\n",
       "    <tr>\n",
       "      <th>59</th>\n",
       "      <td>team1=&gt;Rising Pune Supergiants</td>\n",
       "      <td>NaN</td>\n",
       "      <td>621.0</td>\n",
       "    </tr>\n",
       "  </tbody>\n",
       "</table>\n",
       "</div>"
      ],
      "text/plain": [
       "                                           Unnamed: 0       0       1\n",
       "0                               team1=>Gujarat Titans   121.0  1233.0\n",
       "1                         team1=>Kochi Tuskers Kerala   123.0   382.0\n",
       "2                              venue=>OUTsurance Oval   124.0     NaN\n",
       "3         venue=>Vidarbha Cricket Association Stadium   124.0     NaN\n",
       "4                       venue=>Holkar Cricket Stadium   125.0   834.0\n",
       "5   venue=>Himachal Pradesh Cricket Association St...   127.0   492.0\n",
       "6           venue=>JSCA International Stadium Complex   224.0   365.0\n",
       "7                       team1=>Rising Pune Supergiant   246.0   374.0\n",
       "8                             venue=>St George's Park   248.0   247.0\n",
       "9                                 venue=>Buffalo Park   250.0   130.0\n",
       "10                               venue=>Nehru Stadium   250.0   228.0\n",
       "11  venue=>Shaheed Veer Narayan Singh Internationa...   251.0   491.0\n",
       "12                     team2=>Rising Pune Supergiants   251.0   372.0\n",
       "13      venue=>Saurashtra Cricket Association Stadium   366.0   740.0\n",
       "14                            venue=>Barabati Stadium   367.0   368.0\n",
       "15                venue=>Sardar Patel Stadium, Motera   371.0   121.0\n",
       "16                        team2=>Kochi Tuskers Kerala   372.0   343.0\n",
       "17                               team1=>Pune Warriors   373.0  1462.0\n",
       "18                      team2=>Rising Pune Supergiant   374.0   463.0\n",
       "19                       venue=>New Wanderers Stadium   377.0   372.0\n",
       "20                             venue=>SuperSport Park   477.0   638.0\n",
       "21                              team2=>Gujarat Titans   488.0  1236.0\n",
       "22                                   venue=>Kingsmead   491.0   742.0\n",
       "23  venue=>Dr. Y.S. Rajasekhara Reddy ACA-VDCA Cri...   615.0   616.0\n",
       "24                                    venue=>Newlands   618.0     NaN\n",
       "25                  venue=>Dr DY Patil Sports Academy   622.0  1087.0\n",
       "26                     venue=>Sharjah Cricket Stadium   624.0  1116.0\n",
       "27                           venue=>Brabourne Stadium   627.0   377.0\n",
       "28                  venue=>Subrata Roy Sahara Stadium   740.0   612.0\n",
       "29     venue=>Maharashtra Cricket Association Stadium   756.0  1344.0\n",
       "30                        venue=>Sheikh Zayed Stadium  1243.0  1704.0\n",
       "31                      venue=>Sawai Mansingh Stadium  1735.0  2986.0\n",
       "32                               team2=>Pune Warriors  1859.0   613.0\n",
       "33         venue=>Dubai International Cricket Stadium  1875.0  1362.0\n",
       "34  venue=>Punjab Cricket Association IS Bindra St...  2415.0  3412.0\n",
       "35                            team1=>Rajasthan Royals  2728.0  3407.0\n",
       "36          venue=>Rajiv Gandhi International Stadium  2740.0  3093.0\n",
       "37             venue=>MA Chidambaram Stadium, Chepauk  2860.0  2119.0\n",
       "38                            venue=>Wankhede Stadium  2979.0  3567.0\n",
       "39                         team2=>Chennai Super Kings  2984.0  5079.0\n",
       "40                            venue=>Feroz Shah Kotla  2988.0  3406.0\n",
       "41                              team2=>Mumbai Indians  2990.0  5525.0\n",
       "42                                venue=>Eden Gardens  3069.0  3774.0\n",
       "43                       venue=>M Chinnaswamy Stadium  3325.0  4237.0\n",
       "44                            team2=>Rajasthan Royals  3492.0  4439.0\n",
       "45                              team1=>Delhi Capitals  3623.0  3730.0\n",
       "46                                team1=>Punjab Kings  3667.0  5885.0\n",
       "47                       team2=>Kolkata Knight Riders  3946.0  5507.0\n",
       "48                       team1=>Kolkata Knight Riders  3953.0  5199.0\n",
       "49                                team2=>Punjab Kings  3958.0  4374.0\n",
       "50                         team2=>Sunrisers Hyderabad  3963.0  3820.0\n",
       "51                 team1=>Royal Challengers Bangalore  4201.0  4551.0\n",
       "52                         team1=>Chennai Super Kings  4307.0  3942.0\n",
       "53                 team2=>Royal Challengers Bangalore  4389.0  4581.0\n",
       "54                         team1=>Sunrisers Hyderabad  4684.0  5570.0\n",
       "55                              team2=>Delhi Capitals  4937.0  4596.0\n",
       "56                              team1=>Mumbai Indians  5977.0  4592.0\n",
       "57                       venue=>De Beers Diamond Oval     NaN   125.0\n",
       "58                                  venue=>Green Park     NaN   243.0\n",
       "59                     team1=>Rising Pune Supergiants     NaN   621.0"
      ]
     },
     "execution_count": 16,
     "metadata": {},
     "output_type": "execute_result"
    }
   ],
   "source": [
    "view"
   ]
  },
  {
   "cell_type": "code",
   "execution_count": 173,
   "metadata": {},
   "outputs": [
    {
     "data": {
      "text/plain": [
       "array([1, 1, 1, 1, 1, 1, 1, 1, 1, 1, 1, 1, 1, 1, 1, 1, 1, 1, 1, 1, 1, 1,\n",
       "       1, 1, 1, 1, 1, 1, 1, 1, 1, 1, 1, 1, 1, 1, 1, 1, 1, 1, 1, 1, 1, 1,\n",
       "       1, 1, 1, 1, 1, 1, 1, 1, 1, 1, 1, 1, 1, 1, 1, 1, 1, 1, 1, 1, 1, 1,\n",
       "       1, 1, 1, 1, 1, 1, 1, 1, 1, 1, 1, 1, 1, 1, 1, 1, 1, 1, 1, 1, 1, 1,\n",
       "       1, 1, 1, 1, 1, 1, 1, 1, 1, 1, 1, 1, 1, 1, 1, 1, 1, 1, 1, 1, 1, 1,\n",
       "       1, 1, 1, 1, 1, 1, 1, 1, 1, 1, 1, 1, 1, 1, 1, 1, 1])"
      ]
     },
     "execution_count": 173,
     "metadata": {},
     "output_type": "execute_result"
    }
   ],
   "source": [
    "y_train[X_train[X_train[\"venue\"]=='OUTsurance Oval'].index]"
   ]
  },
  {
   "cell_type": "code",
   "execution_count": 22,
   "metadata": {},
   "outputs": [],
   "source": [
    "data = pd.read_csv('data_v3.csv')"
   ]
  },
  {
   "cell_type": "code",
   "execution_count": 169,
   "metadata": {},
   "outputs": [],
   "source": [
    "X_train = X_train.reset_index()"
   ]
  },
  {
   "cell_type": "code",
   "execution_count": 164,
   "metadata": {},
   "outputs": [
    {
     "data": {
      "text/plain": [
       "(74959, 15)"
      ]
     },
     "execution_count": 164,
     "metadata": {},
     "output_type": "execute_result"
    }
   ],
   "source": [
    "X_train.shape"
   ]
  },
  {
   "cell_type": "code",
   "execution_count": 170,
   "metadata": {},
   "outputs": [],
   "source": [
    "view = pd.DataFrame({'venue':X_train.venue.unique()})"
   ]
  },
  {
   "cell_type": "code",
   "execution_count": 171,
   "metadata": {},
   "outputs": [],
   "source": [
    "view['lose'] = view['venue'].map(lambda x:(y_train[X_train[X_train['venue']==x].index]==0).astype(int).sum())\n",
    "view['win'] = view['venue'].map(lambda x:(y_train[X_train[X_train['venue']==x].index]==1).astype(int).sum())"
   ]
  },
  {
   "cell_type": "code",
   "execution_count": 172,
   "metadata": {},
   "outputs": [
    {
     "data": {
      "text/html": [
       "<div>\n",
       "<style scoped>\n",
       "    .dataframe tbody tr th:only-of-type {\n",
       "        vertical-align: middle;\n",
       "    }\n",
       "\n",
       "    .dataframe tbody tr th {\n",
       "        vertical-align: top;\n",
       "    }\n",
       "\n",
       "    .dataframe thead th {\n",
       "        text-align: right;\n",
       "    }\n",
       "</style>\n",
       "<table border=\"1\" class=\"dataframe\">\n",
       "  <thead>\n",
       "    <tr style=\"text-align: right;\">\n",
       "      <th></th>\n",
       "      <th>venue</th>\n",
       "      <th>lose</th>\n",
       "      <th>win</th>\n",
       "    </tr>\n",
       "  </thead>\n",
       "  <tbody>\n",
       "    <tr>\n",
       "      <th>0</th>\n",
       "      <td>M Chinnaswamy Stadium</td>\n",
       "      <td>3004</td>\n",
       "      <td>4161</td>\n",
       "    </tr>\n",
       "    <tr>\n",
       "      <th>1</th>\n",
       "      <td>Punjab Cricket Association IS Bindra Stadium</td>\n",
       "      <td>2296</td>\n",
       "      <td>2810</td>\n",
       "    </tr>\n",
       "    <tr>\n",
       "      <th>2</th>\n",
       "      <td>Feroz Shah Kotla</td>\n",
       "      <td>3346</td>\n",
       "      <td>3768</td>\n",
       "    </tr>\n",
       "    <tr>\n",
       "      <th>3</th>\n",
       "      <td>Eden Gardens</td>\n",
       "      <td>2737</td>\n",
       "      <td>4236</td>\n",
       "    </tr>\n",
       "    <tr>\n",
       "      <th>4</th>\n",
       "      <td>Sawai Mansingh Stadium</td>\n",
       "      <td>1245</td>\n",
       "      <td>2607</td>\n",
       "    </tr>\n",
       "    <tr>\n",
       "      <th>5</th>\n",
       "      <td>Rajiv Gandhi International Stadium</td>\n",
       "      <td>2742</td>\n",
       "      <td>2972</td>\n",
       "    </tr>\n",
       "    <tr>\n",
       "      <th>6</th>\n",
       "      <td>MA Chidambaram Stadium, Chepauk</td>\n",
       "      <td>2978</td>\n",
       "      <td>1754</td>\n",
       "    </tr>\n",
       "    <tr>\n",
       "      <th>7</th>\n",
       "      <td>Dr DY Patil Sports Academy</td>\n",
       "      <td>627</td>\n",
       "      <td>1085</td>\n",
       "    </tr>\n",
       "    <tr>\n",
       "      <th>8</th>\n",
       "      <td>Wankhede Stadium</td>\n",
       "      <td>3234</td>\n",
       "      <td>3566</td>\n",
       "    </tr>\n",
       "    <tr>\n",
       "      <th>9</th>\n",
       "      <td>Newlands</td>\n",
       "      <td>243</td>\n",
       "      <td>119</td>\n",
       "    </tr>\n",
       "    <tr>\n",
       "      <th>10</th>\n",
       "      <td>St George's Park</td>\n",
       "      <td>251</td>\n",
       "      <td>369</td>\n",
       "    </tr>\n",
       "    <tr>\n",
       "      <th>11</th>\n",
       "      <td>Kingsmead</td>\n",
       "      <td>617</td>\n",
       "      <td>743</td>\n",
       "    </tr>\n",
       "    <tr>\n",
       "      <th>12</th>\n",
       "      <td>SuperSport Park</td>\n",
       "      <td>353</td>\n",
       "      <td>632</td>\n",
       "    </tr>\n",
       "    <tr>\n",
       "      <th>13</th>\n",
       "      <td>Buffalo Park</td>\n",
       "      <td>250</td>\n",
       "      <td>130</td>\n",
       "    </tr>\n",
       "    <tr>\n",
       "      <th>14</th>\n",
       "      <td>New Wanderers Stadium</td>\n",
       "      <td>125</td>\n",
       "      <td>618</td>\n",
       "    </tr>\n",
       "    <tr>\n",
       "      <th>15</th>\n",
       "      <td>De Beers Diamond Oval</td>\n",
       "      <td>121</td>\n",
       "      <td>247</td>\n",
       "    </tr>\n",
       "    <tr>\n",
       "      <th>16</th>\n",
       "      <td>OUTsurance Oval</td>\n",
       "      <td>0</td>\n",
       "      <td>127</td>\n",
       "    </tr>\n",
       "    <tr>\n",
       "      <th>17</th>\n",
       "      <td>Brabourne Stadium</td>\n",
       "      <td>629</td>\n",
       "      <td>507</td>\n",
       "    </tr>\n",
       "    <tr>\n",
       "      <th>18</th>\n",
       "      <td>Sardar Patel Stadium, Motera</td>\n",
       "      <td>493</td>\n",
       "      <td>624</td>\n",
       "    </tr>\n",
       "    <tr>\n",
       "      <th>19</th>\n",
       "      <td>Barabati Stadium</td>\n",
       "      <td>488</td>\n",
       "      <td>368</td>\n",
       "    </tr>\n",
       "    <tr>\n",
       "      <th>20</th>\n",
       "      <td>Vidarbha Cricket Association Stadium</td>\n",
       "      <td>123</td>\n",
       "      <td>0</td>\n",
       "    </tr>\n",
       "    <tr>\n",
       "      <th>21</th>\n",
       "      <td>Himachal Pradesh Cricket Association Stadium</td>\n",
       "      <td>623</td>\n",
       "      <td>492</td>\n",
       "    </tr>\n",
       "    <tr>\n",
       "      <th>22</th>\n",
       "      <td>Nehru Stadium</td>\n",
       "      <td>375</td>\n",
       "      <td>0</td>\n",
       "    </tr>\n",
       "    <tr>\n",
       "      <th>23</th>\n",
       "      <td>Holkar Cricket Stadium</td>\n",
       "      <td>125</td>\n",
       "      <td>717</td>\n",
       "    </tr>\n",
       "    <tr>\n",
       "      <th>24</th>\n",
       "      <td>Subrata Roy Sahara Stadium</td>\n",
       "      <td>1354</td>\n",
       "      <td>732</td>\n",
       "    </tr>\n",
       "    <tr>\n",
       "      <th>25</th>\n",
       "      <td>Dr. Y.S. Rajasekhara Reddy ACA-VDCA Cricket St...</td>\n",
       "      <td>615</td>\n",
       "      <td>492</td>\n",
       "    </tr>\n",
       "    <tr>\n",
       "      <th>26</th>\n",
       "      <td>Shaheed Veer Narayan Singh International Stadium</td>\n",
       "      <td>251</td>\n",
       "      <td>491</td>\n",
       "    </tr>\n",
       "    <tr>\n",
       "      <th>27</th>\n",
       "      <td>JSCA International Stadium Complex</td>\n",
       "      <td>224</td>\n",
       "      <td>490</td>\n",
       "    </tr>\n",
       "    <tr>\n",
       "      <th>28</th>\n",
       "      <td>Sharjah Cricket Stadium</td>\n",
       "      <td>873</td>\n",
       "      <td>1121</td>\n",
       "    </tr>\n",
       "    <tr>\n",
       "      <th>29</th>\n",
       "      <td>Sheikh Zayed Stadium</td>\n",
       "      <td>870</td>\n",
       "      <td>1706</td>\n",
       "    </tr>\n",
       "    <tr>\n",
       "      <th>30</th>\n",
       "      <td>Dubai International Cricket Stadium</td>\n",
       "      <td>1629</td>\n",
       "      <td>1485</td>\n",
       "    </tr>\n",
       "    <tr>\n",
       "      <th>31</th>\n",
       "      <td>Maharashtra Cricket Association Stadium</td>\n",
       "      <td>498</td>\n",
       "      <td>1343</td>\n",
       "    </tr>\n",
       "    <tr>\n",
       "      <th>32</th>\n",
       "      <td>Saurashtra Cricket Association Stadium</td>\n",
       "      <td>366</td>\n",
       "      <td>617</td>\n",
       "    </tr>\n",
       "    <tr>\n",
       "      <th>33</th>\n",
       "      <td>Green Park</td>\n",
       "      <td>0</td>\n",
       "      <td>125</td>\n",
       "    </tr>\n",
       "  </tbody>\n",
       "</table>\n",
       "</div>"
      ],
      "text/plain": [
       "                                                venue  lose   win\n",
       "0                               M Chinnaswamy Stadium  3004  4161\n",
       "1        Punjab Cricket Association IS Bindra Stadium  2296  2810\n",
       "2                                    Feroz Shah Kotla  3346  3768\n",
       "3                                        Eden Gardens  2737  4236\n",
       "4                              Sawai Mansingh Stadium  1245  2607\n",
       "5                  Rajiv Gandhi International Stadium  2742  2972\n",
       "6                     MA Chidambaram Stadium, Chepauk  2978  1754\n",
       "7                          Dr DY Patil Sports Academy   627  1085\n",
       "8                                    Wankhede Stadium  3234  3566\n",
       "9                                            Newlands   243   119\n",
       "10                                   St George's Park   251   369\n",
       "11                                          Kingsmead   617   743\n",
       "12                                    SuperSport Park   353   632\n",
       "13                                       Buffalo Park   250   130\n",
       "14                              New Wanderers Stadium   125   618\n",
       "15                              De Beers Diamond Oval   121   247\n",
       "16                                    OUTsurance Oval     0   127\n",
       "17                                  Brabourne Stadium   629   507\n",
       "18                       Sardar Patel Stadium, Motera   493   624\n",
       "19                                   Barabati Stadium   488   368\n",
       "20               Vidarbha Cricket Association Stadium   123     0\n",
       "21       Himachal Pradesh Cricket Association Stadium   623   492\n",
       "22                                      Nehru Stadium   375     0\n",
       "23                             Holkar Cricket Stadium   125   717\n",
       "24                         Subrata Roy Sahara Stadium  1354   732\n",
       "25  Dr. Y.S. Rajasekhara Reddy ACA-VDCA Cricket St...   615   492\n",
       "26   Shaheed Veer Narayan Singh International Stadium   251   491\n",
       "27                 JSCA International Stadium Complex   224   490\n",
       "28                            Sharjah Cricket Stadium   873  1121\n",
       "29                               Sheikh Zayed Stadium   870  1706\n",
       "30                Dubai International Cricket Stadium  1629  1485\n",
       "31            Maharashtra Cricket Association Stadium   498  1343\n",
       "32             Saurashtra Cricket Association Stadium   366   617\n",
       "33                                         Green Park     0   125"
      ]
     },
     "execution_count": 172,
     "metadata": {},
     "output_type": "execute_result"
    }
   ],
   "source": [
    "view"
   ]
  },
  {
   "cell_type": "code",
   "execution_count": 134,
   "metadata": {},
   "outputs": [
    {
     "data": {
      "text/plain": [
       "array([ 981001,  981007, 1082640, 1082643], dtype=int64)"
      ]
     },
     "execution_count": 134,
     "metadata": {},
     "output_type": "execute_result"
    }
   ],
   "source": [
    "data[data['venue']=='Green Park'].id.unique()"
   ]
  },
  {
   "cell_type": "code",
   "execution_count": null,
   "metadata": {},
   "outputs": [],
   "source": []
  }
 ],
 "metadata": {
  "kernelspec": {
   "display_name": "iplenv",
   "language": "python",
   "name": "iplenv"
  },
  "language_info": {
   "codemirror_mode": {
    "name": "ipython",
    "version": 3
   },
   "file_extension": ".py",
   "mimetype": "text/x-python",
   "name": "python",
   "nbconvert_exporter": "python",
   "pygments_lexer": "ipython3",
   "version": "3.10.4"
  }
 },
 "nbformat": 4,
 "nbformat_minor": 4
}
