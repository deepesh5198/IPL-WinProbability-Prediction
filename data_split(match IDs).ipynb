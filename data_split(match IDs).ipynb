{
 "cells": [
  {
   "cell_type": "markdown",
   "id": "bc8ff4b2-2025-410c-ba88-6a2952b18d5b",
   "metadata": {},
   "source": [
    "## Splitting data with unique match ID"
   ]
  },
  {
   "cell_type": "code",
   "execution_count": 28,
   "id": "d06804c5-0cf2-4246-9503-4ebe63f65240",
   "metadata": {},
   "outputs": [],
   "source": [
    "from sklearn.preprocessing import OneHotEncoder, MinMaxScaler, StandardScaler\n",
    "import pandas as pd\n",
    "import numpy as np\n",
    "import pickle\n",
    "from warnings import filterwarnings\n",
    "filterwarnings(\"ignore\")\n",
    "dataset = pd.read_csv('data_v3.csv')\n",
    "\n",
    "dataset.drop(\"extras_type\", axis=1, inplace=True)\n",
    "matches = dataset.id.unique()\n",
    "\n",
    "np.random.shuffle(matches)\n",
    "y = dataset[\"team2_won_match\"]\n",
    "dataset.drop(\"team2_won_match\", axis=1, inplace=True)\n",
    "\n",
    "X_train = dataset[dataset.id.isin(matches[:int(0.70*len(matches))])]\n",
    "X_val = dataset[dataset.id.isin(matches[int(0.70*len(matches)):int(0.85*len(matches))])]\n",
    "X_test = dataset[dataset.id.isin(matches[int(0.85*len(matches)):])]\n",
    "y_train = (((y[dataset.id.isin(matches[:int(0.70*len(matches))])])==1).astype(int)).values\n",
    "y_val = (((y[dataset.id.isin(matches[int(0.70*len(matches)):int(0.85*len(matches))])])==1).astype(int)).values\n",
    "y_test = (((y[dataset.id.isin(matches[int(0.85*len(matches)):])])==1).astype(int)).values\n",
    "\n",
    "X_train.drop(\"id\", axis=1,inplace=True)\n",
    "X_val.drop(\"id\", axis=1,inplace=True)\n",
    "X_test.drop(\"id\", axis=1,inplace=True)\n",
    "\n",
    "categorical_cols = X_train.select_dtypes(include ='object').values\n",
    "numerical_cols = X_train.select_dtypes(exclude='object').values\n",
    "\n",
    "encoder = OneHotEncoder(sparse = False, handle_unknown='ignore')\n",
    "encoder.fit(categorical_cols)\n",
    "min_scaler = MinMaxScaler()\n",
    "min_scaler.fit(numerical_cols)\n",
    "std_scaler = StandardScaler()\n",
    "std_scaler.fit(numerical_cols)\n",
    "\n",
    "with open(\"saved_pickle/encoders_new.pkl\",\"wb\") as f:\n",
    "            pickle.dump({\n",
    "                \"min_scaler\":min_scaler,\n",
    "                \"std_scaler\":std_scaler,\n",
    "                \"encoder\":encoder\n",
    "            },f)\n",
    "\n",
    "train_test_split = {\"X_train\": X_train,\n",
    "                   \"y_train\": y_train,\n",
    "                    \"X_val\": X_val,\n",
    "                    \"y_val\": y_val,\n",
    "                   \"X_test\":X_test,\n",
    "                   \"y_test\":y_test}\n",
    "\n",
    "with open(\"Train_test_samples/train_test_split1_new.pkl\", 'wb') as a:\n",
    "    pickle.dump(train_test_split,a)\n",
    "\n",
    "# with open(\"saved_pickle/column_sequence2.pkl\", \"wb\") as a:\n",
    "#     pickle.dump(column_sequence, a)"
   ]
  },
  {
   "cell_type": "code",
   "execution_count": 5,
   "id": "ebe6fa7e-8704-4f71-b769-3b8afa303d09",
   "metadata": {},
   "outputs": [],
   "source": [
    "# matches"
   ]
  },
  {
   "cell_type": "code",
   "execution_count": 25,
   "id": "446b5355-e20c-4a06-9113-b42cf0a9fb83",
   "metadata": {},
   "outputs": [
    {
     "data": {
      "text/plain": [
       "((80021, 15), (80021,))"
      ]
     },
     "execution_count": 25,
     "metadata": {},
     "output_type": "execute_result"
    }
   ],
   "source": [
    "X_train.shape, y_train.shape"
   ]
  },
  {
   "cell_type": "code",
   "execution_count": 26,
   "id": "b1b28c53-846b-47f6-9ed2-76f9fefccb14",
   "metadata": {},
   "outputs": [
    {
     "data": {
      "text/plain": [
       "((9991, 15), (9991,))"
      ]
     },
     "execution_count": 26,
     "metadata": {},
     "output_type": "execute_result"
    }
   ],
   "source": [
    "X_val.shape, y_val.shape"
   ]
  },
  {
   "cell_type": "code",
   "execution_count": 27,
   "id": "5209e189-f00d-4e38-813d-56096a898b48",
   "metadata": {},
   "outputs": [
    {
     "data": {
      "text/plain": [
       "((9834, 15), (9834,))"
      ]
     },
     "execution_count": 27,
     "metadata": {},
     "output_type": "execute_result"
    }
   ],
   "source": [
    "X_test.shape, y_test.shape"
   ]
  },
  {
   "cell_type": "code",
   "execution_count": null,
   "id": "23e68225-31f3-45d1-acc1-e80e88bbdddf",
   "metadata": {},
   "outputs": [],
   "source": []
  }
 ],
 "metadata": {
  "kernelspec": {
   "display_name": "Python 3 (ipykernel)",
   "language": "python",
   "name": "python3"
  },
  "language_info": {
   "codemirror_mode": {
    "name": "ipython",
    "version": 3
   },
   "file_extension": ".py",
   "mimetype": "text/x-python",
   "name": "python",
   "nbconvert_exporter": "python",
   "pygments_lexer": "ipython3",
   "version": "3.10.4"
  }
 },
 "nbformat": 4,
 "nbformat_minor": 5
}
